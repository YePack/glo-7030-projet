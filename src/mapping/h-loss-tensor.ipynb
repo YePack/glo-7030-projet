{
 "cells": [
  {
   "cell_type": "code",
   "execution_count": 1,
   "metadata": {},
   "outputs": [
    {
     "name": "stdout",
     "output_type": "stream",
     "text": [
      "C:\\Users\\Samuel\\Dropbox\\Git Projects\\glo-7030-projet\\src\\mapping\n",
      "C:\\Users\\Samuel\\Dropbox\\Git Projects\\glo-7030-projet\n"
     ]
    },
    {
     "data": {
      "text/plain": [
       "<matplotlib.image.AxesImage at 0x25cf923da08>"
      ]
     },
     "execution_count": 1,
     "metadata": {},
     "output_type": "execute_result"
    }
   ],
   "source": [
    "import sys\n",
    "import os\n",
    "print(os.getcwd())\n",
    "os.chdir(\"C:\\\\Users\\\\Samuel\\\\Dropbox\\\\Git Projects\\\\glo-7030-projet\")\n",
    "print(os.getcwd())\n",
    "\n",
    "import torch\n",
    "import torch.nn as nn\n",
    "import torch.nn.functional as F\n",
    "import numpy as np\n",
    "sys.path.append(\"../..\")\n",
    "device = \"cpu\"\n",
    "\n",
    "from src.mapping.utils import warpPerspective, warpPerspectiveBatch, crop_center\n",
    "from src.semantic.utils.utils import readfile\n",
    "\n",
    "rink_2d_label = readfile('data/rink/rink_label')\n",
    "rink_2d = crop_center(rink_2d_label, 450, 256)\n",
    "\n",
    "semseg = readfile(\"data/train/image-104\")\n",
    "semseg = crop_center(semseg, 450, 256)\n",
    "\n",
    "from src.semantic.net_parameters import p_classes_color\n",
    "import matplotlib as mpl\n",
    "import matplotlib.pyplot as plt\n",
    "cmap = mpl.colors.ListedColormap(p_classes_color)\n",
    "\n",
    "#'ice': 1, 'board': 2, 'circlezone': 3, 'circlemid': 4, 'goal': 5, 'blue': 6, 'red': 7, 'fo': 8\n",
    "\n",
    "plt.subplot(1,2,1)\n",
    "plt.imshow(semseg,cmap=cmap)\n",
    "plt.subplot(1,2,2)\n",
    "plt.imshow(rink_2d,cmap=cmap)"
   ]
  },
  {
   "cell_type": "code",
   "execution_count": 2,
   "metadata": {},
   "outputs": [
    {
     "name": "stdout",
     "output_type": "stream",
     "text": [
      "[[1 0 0]\n",
      " [0 1 0]\n",
      " [0 0 1]]\n",
      "1.0\n"
     ]
    }
   ],
   "source": [
    "h = np.array([[1,0,0],[0,1,0],[0,0,1]])\n",
    "proj= warpPerspective(semseg, h)\n",
    "print(h)\n",
    "print(proj[225,128])"
   ]
  },
  {
   "cell_type": "code",
   "execution_count": 3,
   "metadata": {},
   "outputs": [
    {
     "data": {
      "text/plain": [
       "0.0"
      ]
     },
     "execution_count": 3,
     "metadata": {},
     "output_type": "execute_result"
    }
   ],
   "source": [
    "# loss zone-face-offs\n",
    "x3 = np.array([[75],[375]])\n",
    "y3 = np.array([[70],[180]])\n",
    "p3 = np.where(proj==3)\n",
    "\n",
    "dx3 = np.amin((p3[0] - x3)**2, axis=0)\n",
    "dy3 = np.amin((p3[1] - y3)**2, axis=0)\n",
    "np.sum(dx3+dy3)/max(1,len(p3[0]))"
   ]
  },
  {
   "cell_type": "code",
   "execution_count": null,
   "metadata": {},
   "outputs": [],
   "source": [
    "k = 8\n",
    "semseg = torch.tensor(semseg)"
   ]
  },
  {
   "cell_type": "code",
   "execution_count": 33,
   "metadata": {},
   "outputs": [],
   "source": [
    "#h = np.array([[1,0,0],[0,1,0],[0,0,1]])\n",
    "h = torch.tensor([[[1,0,0],[0,1,0],[0,0,1]],\n",
    "                  [[1,0,0],[0,1,0],[0,0,1]],\n",
    "                  [[1,0,0],[0,1,0],[0,0,1]],\n",
    "                  [[1,0,0],[0,1,0],[0,0,1]]], dtype=torch.float)\n",
    "b = h.shape[0]"
   ]
  },
  {
   "cell_type": "code",
   "execution_count": 45,
   "metadata": {},
   "outputs": [],
   "source": [
    "semseg2 = semseg.reshape(1,450,256)\n",
    "semseg2 = torch.cat((semseg2,semseg2,semseg2,semseg2),0)\n",
    "# semseg\n",
    "\n",
    "#warpPerspective(semseg2[0], h[0])\n",
    "#warpPerspective(semseg2[1], h[1])\n",
    "#warpPerspective(semseg2[2], h[2])\n",
    "#warpPerspective(semseg2[3], h[3])\n",
    "projs = warpPerspectiveBatch(semseg2, h, device)"
   ]
  },
  {
   "cell_type": "code",
   "execution_count": 86,
   "metadata": {},
   "outputs": [
    {
     "name": "stdout",
     "output_type": "stream",
     "text": [
      "0\n",
      "<class 'torch.Tensor'>\n",
      "tensor(17797)\n",
      "1\n",
      "<class 'torch.Tensor'>\n",
      "tensor(17797)\n",
      "2\n",
      "<class 'torch.Tensor'>\n",
      "tensor(17797)\n",
      "3\n",
      "<class 'torch.Tensor'>\n",
      "tensor(17797)\n"
     ]
    }
   ],
   "source": [
    "if k == 8:\n",
    "    x = torch.tensor([[70],[180]])\n",
    "    y = torch.tensor([[170],[280]])\n",
    " \n",
    "for i in range(b):\n",
    "    print(i)\n",
    "    p = torch.where(projs[i]==k)\n",
    "    dx = torch.min((p[0] - x)**2,dim=0).values\n",
    "    dy = torch.min((p[1] - y)**2,dim=0).values\n",
    "    loss = torch.sum(dx+dy)/max(1,len(p[0]))\n",
    "    print(loss)\n",
    "\n",
    "\n",
    "    "
   ]
  },
  {
   "cell_type": "code",
   "execution_count": 102,
   "metadata": {},
   "outputs": [],
   "source": [
    "xx = torch.tensor([[[0],[0]],[[0],[0]],[[0],[0]],[[75],[375]],[[225],[0]],[[0],[0]],[[0],[0]],[[0],[0]],[[170],[280]]])\n",
    "yy = torch.tensor([[[0],[0]],[[0],[0]],[[0],[0]],[[70],[180]],[[128],[0]],[[0],[0]],[[0],[0]],[[0],[0]],[[70],[180]]])\n",
    "projs = warpPerspectiveBatch(semseg2, h, device)"
   ]
  },
  {
   "cell_type": "code",
   "execution_count": 106,
   "metadata": {},
   "outputs": [
    {
     "name": "stdout",
     "output_type": "stream",
     "text": [
      "tensor(0)\n",
      "tensor(0)\n",
      "tensor(0)\n",
      "tensor(0)\n",
      "tensor(25989)\n",
      "tensor(51978)\n",
      "tensor(77967)\n",
      "tensor(103956)\n",
      "tensor(164526)\n",
      "tensor(225096)\n",
      "tensor(285666)\n",
      "tensor(346236)\n"
     ]
    }
   ],
   "source": [
    "        loss = 0\n",
    "        for k in (3,4,8):\n",
    "            for i in range(b):\n",
    "                x = xx[k]\n",
    "                y = yy[k]\n",
    "                p = torch.where(projs[i]==k)\n",
    "                \n",
    "                if k == 4:\n",
    "                    x = x[0]\n",
    "                    y = y[0]\n",
    "                \n",
    "                dx = (p[0] - x)**2\n",
    "                dy = (p[1] - y)**2\n",
    "\n",
    "                if k == 3 | k == 8:\n",
    "                    dx = torch.min(dx,dim=0).values\n",
    "                    dy = torch.min(dy,dim=0).values\n",
    "            \n",
    "                loss = loss + torch.sum(dx+dy)/max(1,len(p[0]))\n",
    "                print(loss)\n",
    "\n"
   ]
  },
  {
   "cell_type": "code",
   "execution_count": 101,
   "metadata": {},
   "outputs": [
    {
     "data": {
      "text/plain": [
       "tensor([[170],\n",
       "        [280]])"
      ]
     },
     "execution_count": 101,
     "metadata": {},
     "output_type": "execute_result"
    }
   ],
   "source": [
    "i = 3\n",
    "k = 8\n",
    "xx[k-1]\n"
   ]
  },
  {
   "cell_type": "code",
   "execution_count": 95,
   "metadata": {},
   "outputs": [
    {
     "data": {
      "text/plain": [
       "torch.Size([8, 2, 1])"
      ]
     },
     "execution_count": 95,
     "metadata": {},
     "output_type": "execute_result"
    }
   ],
   "source": [
    "xx.shape"
   ]
  }
 ],
 "metadata": {
  "kernelspec": {
   "display_name": "Python 3",
   "language": "python",
   "name": "python3"
  }
 },
 "nbformat": 4,
 "nbformat_minor": 2
}
