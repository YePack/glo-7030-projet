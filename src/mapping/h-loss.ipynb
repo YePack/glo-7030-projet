{
 "cells": [
  {
   "cell_type": "code",
   "execution_count": 1,
   "metadata": {},
   "outputs": [
    {
     "name": "stdout",
     "output_type": "stream",
     "text": [
      "C:\\Users\\Samuel\\Dropbox\\Git Projects\\glo-7030-projet\\src\\mapping\n",
      "C:\\Users\\Samuel\\Dropbox\\Git Projects\\glo-7030-projet\n"
     ]
    },
    {
     "data": {
      "text/plain": [
       "<matplotlib.image.AxesImage at 0x2b123233848>"
      ]
     },
     "execution_count": 1,
     "metadata": {},
     "output_type": "execute_result"
    }
   ],
   "source": [
    "import sys\n",
    "import os\n",
    "print(os.getcwd())\n",
    "os.chdir(\"C:\\\\Users\\\\Samuel\\\\Dropbox\\\\Git Projects\\\\glo-7030-projet\")\n",
    "print(os.getcwd())\n",
    "\n",
    "import torch\n",
    "import torch.nn as nn\n",
    "import torch.nn.functional as F\n",
    "import numpy as np\n",
    "sys.path.append(\"../..\")\n",
    "\n",
    "from src.mapping.utils import warpPerspective, crop_center\n",
    "from src.semantic.utils.utils import readfile\n",
    "\n",
    "rink_2d_label = readfile('data/rink/rink_label')\n",
    "rink_2d = crop_center(rink_2d_label, 450, 256)\n",
    "\n",
    "semseg = readfile(\"data/train/image-104\")\n",
    "semseg = crop_center(semseg, 450, 256)\n",
    "\n",
    "from src.semantic.net_parameters import p_classes_color\n",
    "import matplotlib as mpl\n",
    "import matplotlib.pyplot as plt\n",
    "cmap = mpl.colors.ListedColormap(p_classes_color)\n",
    "\n",
    "#'ice': 1, 'board': 2, 'circlezone': 3, 'circlemid': 4, 'goal': 5, 'blue': 6, 'red': 7, 'fo': 8\n",
    "\n",
    "plt.subplot(1,2,1)\n",
    "plt.imshow(semseg,cmap=cmap)\n",
    "plt.subplot(1,2,2)\n",
    "plt.imshow(rink_2d,cmap=cmap)"
   ]
  },
  {
   "cell_type": "code",
   "execution_count": 26,
   "metadata": {},
   "outputs": [
    {
     "name": "stdout",
     "output_type": "stream",
     "text": [
      "[[1 0 0]\n",
      " [0 1 0]\n",
      " [0 0 1]]\n",
      "1.0\n"
     ]
    }
   ],
   "source": [
    "h = np.array([[1,0,0],[0,1,0],[0,0,1]])\n",
    "proj= warpPerspective(semseg, h)\n",
    "print(h)\n",
    "print(proj[225,128])"
   ]
  },
  {
   "cell_type": "code",
   "execution_count": 27,
   "metadata": {},
   "outputs": [
    {
     "data": {
      "text/plain": [
       "0.0"
      ]
     },
     "execution_count": 27,
     "metadata": {},
     "output_type": "execute_result"
    }
   ],
   "source": [
    "# loss zone-face-offs\n",
    "x3 = np.array([[75],[375]])\n",
    "y3 = np.array([[70],[180]])\n",
    "p3 = np.where(proj==3)\n",
    "\n",
    "dx3 = np.amin((p3[0] - x3)**2, axis=0)\n",
    "dy3 = np.amin((p3[1] - y3)**2, axis=0)\n",
    "np.sum(dx3+dy3)/max(1,len(p3[0]))\n"
   ]
  },
  {
   "cell_type": "code",
   "execution_count": 28,
   "metadata": {},
   "outputs": [
    {
     "data": {
      "text/plain": [
       "17319.321976149913"
      ]
     },
     "execution_count": 28,
     "metadata": {},
     "output_type": "execute_result"
    }
   ],
   "source": [
    "# loss blue-face-offs -- basically the same\n",
    "x8 = np.array([[170],[280]])\n",
    "y8 = np.array([[70],[180]])\n",
    "p8 = np.where(proj == 8)\n",
    "\n",
    "dx8 = np.amin((p8[0] - x8)**2, axis=0)\n",
    "dy8 = np.amin((p8[1] - y8)**2, axis=0)\n",
    "np.sum(dx8+dy8)/max(1,len(p8[0]))"
   ]
  },
  {
   "cell_type": "code",
   "execution_count": 34,
   "metadata": {},
   "outputs": [
    {
     "data": {
      "text/plain": [
       "1671.336909018673"
      ]
     },
     "execution_count": 34,
     "metadata": {},
     "output_type": "execute_result"
    }
   ],
   "source": [
    "# loss blue-line -- on x only\n",
    "x6 = np.array([[158],[292]])\n",
    "p6 = np.where(proj == 6)\n",
    "\n",
    "dx6 = np.amin((p6[0] - x6)**2, axis=0)\n",
    "np.sum(dx6)/max(1,len(p6[0]))"
   ]
  }
 ],
 "metadata": {
  "kernelspec": {
   "display_name": "Python 3",
   "language": "python",
   "name": "python3"
  },
  "language_info": {
   "codemirror_mode": {
    "name": "ipython",
    "version": 3
   },
   "file_extension": ".py",
   "mimetype": "text/x-python",
   "name": "python",
   "nbconvert_exporter": "python",
   "pygments_lexer": "ipython3",
   "version": "3.7.4"
  }
 },
 "nbformat": 4,
 "nbformat_minor": 2
}
