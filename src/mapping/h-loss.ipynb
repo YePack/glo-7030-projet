{
 "cells": [
  {
   "cell_type": "code",
   "execution_count": 11,
   "metadata": {},
   "outputs": [
    {
     "name": "stdout",
     "output_type": "stream",
     "text": [
      "C:\\Users\\Samuel\\Dropbox\\Git Projects\\glo-7030-projet\n",
      "C:\\Users\\Samuel\\Dropbox\\Git Projects\\glo-7030-projet\n"
     ]
    }
   ],
   "source": [
    "import sys\n",
    "import os\n",
    "print(os.getcwd())\n",
    "os.chdir(\"C:\\\\Users\\\\Samuel\\\\Dropbox\\\\Git Projects\\\\glo-7030-projet\")\n",
    "print(os.getcwd())\n",
    "\n",
    "import torch\n",
    "import torch.nn as nn\n",
    "import torch.nn.functional as F\n",
    "import numpy as np\n",
    "sys.path.append(\"../..\")"
   ]
  },
  {
   "cell_type": "code",
   "execution_count": 46,
   "metadata": {},
   "outputs": [],
   "source": [
    "from src.mapping.utils import warpPerspective, crop_center\n",
    "from src.semantic.utils.utils import readfile\n",
    "\n",
    "rink_2d_label = readfile('data/rink/rink_label')\n",
    "rink_2d = crop_center(rink_2d_label, 450, 256)"
   ]
  },
  {
   "cell_type": "code",
   "execution_count": 48,
   "metadata": {},
   "outputs": [],
   "source": [
    "semseg = readfile(\"data/train/image-104\")\n",
    "semseg = crop_center(semseg, 450, 256)"
   ]
  },
  {
   "cell_type": "code",
   "execution_count": 31,
   "metadata": {},
   "outputs": [],
   "source": [
    "from src.semantic.net_parameters import p_classes_color\n",
    "import matplotlib as mpl\n",
    "import matplotlib.pyplot as plt\n",
    "cmap = mpl.colors.ListedColormap(p_classes_color)"
   ]
  },
  {
   "cell_type": "code",
   "execution_count": 44,
   "metadata": {},
   "outputs": [
    {
     "data": {
      "text/plain": [
       "<matplotlib.image.AxesImage at 0x1f5a7c30bc8>"
      ]
     },
     "execution_count": 44,
     "metadata": {},
     "output_type": "execute_result"
    },
    {
     "data": {
      "image/png": "[encoded data removed]",
      "text/plain": [
       "<Figure size 432x288 with 2 Axes>"
      ]
     },
     "metadata": {
      "needs_background": "light"
     },
     "output_type": "display_data"
    }
   ],
   "source": [
    "plt.subplot(1,2,1)\n",
    "plt.imshow(semseg,cmap=cmap)\n",
    "plt.subplot(1,2,2)\n",
    "plt.imshow(rink_2d,cmap=cmap)"
   ]
  },
  {
   "cell_type": "code",
   "execution_count": 94,
   "metadata": {},
   "outputs": [],
   "source": [
    "h = np.array([[1,0,0],[0,1,0],[0,0,1]])"
   ]
  },
  {
   "cell_type": "code",
   "execution_count": 95,
   "metadata": {},
   "outputs": [],
   "source": [
    "proj= warpPerspective(semseg, h)"
   ]
  },
  {
   "cell_type": "code",
   "execution_count": 101,
   "metadata": {},
   "outputs": [
    {
     "name": "stdout",
     "output_type": "stream",
     "text": [
      "[[1 0 0]\n",
      " [0 1 0]\n",
      " [0 0 1]]\n"
     ]
    },
    {
     "data": {
      "text/plain": [
       "1.0"
      ]
     },
     "execution_count": 101,
     "metadata": {},
     "output_type": "execute_result"
    }
   ],
   "source": [
    "print(h)\n",
    "proj[225,128]"
   ]
  },
  {
   "cell_type": "code",
   "execution_count": 244,
   "metadata": {},
   "outputs": [
    {
     "name": "stdout",
     "output_type": "stream",
     "text": [
      "0\n"
     ]
    }
   ],
   "source": [
    "proj3 = np.array(np.where(proj == 3))\n",
    "\n",
    "x3 = np.array([75,375])\n",
    "y3 = np.array([70,180])\n",
    "\n",
    "l = 0\n",
    "for i in range(proj3.shape[1]):\n",
    "    l = l + (np.min(proj3[0,i]-x4))**2 + (np.min(proj3[1,i]-y4))**2\n",
    "\n",
    "print(l)"
   ]
  },
  {
   "cell_type": "code",
   "execution_count": 243,
   "metadata": {},
   "outputs": [
    {
     "name": "stdout",
     "output_type": "stream",
     "text": [
      "46218059\n"
     ]
    }
   ],
   "source": [
    "proj4 = np.array(np.where(proj == 4))\n",
    "\n",
    "l = 0\n",
    "for i in range(proj4.shape[1]):\n",
    "    l = l + (np.min(proj4[0,i]-225))**2 + (np.min(proj4[1,i]-128))**2\n",
    "\n",
    "print(l)"
   ]
  },
  {
   "cell_type": "code",
   "execution_count": 248,
   "metadata": {},
   "outputs": [
    {
     "name": "stdout",
     "output_type": "stream",
     "text": [
      "19064122\n"
     ]
    }
   ],
   "source": [
    "proj8 = np.array(np.where(proj == 8))\n",
    "\n",
    "x8 = np.array([170,280])\n",
    "y8 = np.array([70,180])\n",
    "\n",
    "l = 0\n",
    "for i in range(proj8.shape[1]):\n",
    "    l = l + (np.min(proj8[0,i]-x8))**2 + (np.min(proj8[1,i]-y8))**2\n",
    "\n",
    "print(l)"
   ]
  },
  {
   "cell_type": "code",
   "execution_count": null,
   "metadata": {},
   "outputs": [],
   "source": [
    "#'ice': 1, 'board': 2, 'circlezone': 3, 'circlemid': 4, 'goal': 5, 'blue': 6, 'red': 7, 'fo': 8"
   ]
  },
  {
   "cell_type": "code",
   "execution_count": null,
   "metadata": {},
   "outputs": [],
   "source": []
  },
  {
   "cell_type": "code",
   "execution_count": 109,
   "metadata": {},
   "outputs": [],
   "source": []
  },
  {
   "cell_type": "code",
   "execution_count": null,
   "metadata": {},
   "outputs": [],
   "source": []
  },
  {
   "cell_type": "code",
   "execution_count": null,
   "metadata": {},
   "outputs": [],
   "source": []
  }
 ],
 "metadata": {
  "kernelspec": {
   "display_name": "Python 3",
   "language": "python",
   "name": "python3"
  },
  "language_info": {
   "codemirror_mode": {
    "name": "ipython",
    "version": 3
   },
   "file_extension": ".py",
   "mimetype": "text/x-python",
   "name": "python",
   "nbconvert_exporter": "python",
   "pygments_lexer": "ipython3",
   "version": "3.7.4"
  }
 },
 "nbformat": 4,
 "nbformat_minor": 2
}
